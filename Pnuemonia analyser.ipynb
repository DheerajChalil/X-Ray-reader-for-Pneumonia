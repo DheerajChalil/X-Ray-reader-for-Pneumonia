{
 "cells": [
  {
   "cell_type": "markdown",
   "metadata": {
    "colab_type": "text",
    "id": "3DR-eO17geWu"
   },
   "source": [
    "# Convolutional Neural Network"
   ]
  },
  {
   "cell_type": "markdown",
   "metadata": {
    "colab_type": "text",
    "id": "EMefrVPCg-60"
   },
   "source": [
    "### Importing the libraries"
   ]
  },
  {
   "cell_type": "code",
   "execution_count": 1,
   "metadata": {
    "colab": {},
    "colab_type": "code",
    "id": "sCV30xyVhFbE"
   },
   "outputs": [
    {
     "name": "stderr",
     "output_type": "stream",
     "text": [
      "Using TensorFlow backend.\n"
     ]
    }
   ],
   "source": [
    "import tensorflow as tf\n",
    "from keras.preprocessing.image import ImageDataGenerator"
   ]
  },
  {
   "cell_type": "code",
   "execution_count": 2,
   "metadata": {
    "colab": {},
    "colab_type": "code",
    "id": "FIleuCAjoFD8"
   },
   "outputs": [
    {
     "data": {
      "text/plain": [
       "'2.1.0'"
      ]
     },
     "execution_count": 2,
     "metadata": {},
     "output_type": "execute_result"
    }
   ],
   "source": [
    "tf.__version__"
   ]
  },
  {
   "cell_type": "markdown",
   "metadata": {
    "colab_type": "text",
    "id": "oxQxCBWyoGPE"
   },
   "source": [
    "## Part 1 - Data Preprocessing"
   ]
  },
  {
   "cell_type": "markdown",
   "metadata": {
    "colab_type": "text",
    "id": "MvE-heJNo3GG"
   },
   "source": [
    "### Preprocessing the Training set"
   ]
  },
  {
   "cell_type": "code",
   "execution_count": 3,
   "metadata": {
    "colab": {},
    "colab_type": "code",
    "id": "0koUcJMJpEBD",
    "scrolled": true
   },
   "outputs": [
    {
     "name": "stdout",
     "output_type": "stream",
     "text": [
      "Found 5216 images belonging to 2 classes.\n"
     ]
    }
   ],
   "source": [
    "train_datagen = ImageDataGenerator(rescale = 1./255,\n",
    "                                   shear_range = 0.2,\n",
    "                                   zoom_range = 0.2,\n",
    "                                   horizontal_flip = True)\n",
    "training_set = train_datagen.flow_from_directory('chest_xray/train',\n",
    "                                                 target_size = (64, 64),\n",
    "                                                 batch_size = 32,\n",
    "                                                 class_mode = 'binary')"
   ]
  },
  {
   "cell_type": "markdown",
   "metadata": {
    "colab_type": "text",
    "id": "mrCMmGw9pHys"
   },
   "source": [
    "### Preprocessing the Test set"
   ]
  },
  {
   "cell_type": "code",
   "execution_count": 4,
   "metadata": {
    "colab": {},
    "colab_type": "code",
    "id": "SH4WzfOhpKc3"
   },
   "outputs": [
    {
     "name": "stdout",
     "output_type": "stream",
     "text": [
      "Found 624 images belonging to 2 classes.\n"
     ]
    }
   ],
   "source": [
    "test_datagen = ImageDataGenerator(rescale = 1./255)\n",
    "test_set = test_datagen.flow_from_directory('chest_xray/test',\n",
    "                                            target_size = (64, 64),\n",
    "                                            batch_size = 32,\n",
    "                                            class_mode = 'binary')"
   ]
  },
  {
   "cell_type": "code",
   "execution_count": 5,
   "metadata": {},
   "outputs": [
    {
     "name": "stdout",
     "output_type": "stream",
     "text": [
      "Found 16 images belonging to 2 classes.\n"
     ]
    }
   ],
   "source": [
    "val_datagen = ImageDataGenerator(rescale = 1./255)\n",
    "val_set = val_datagen.flow_from_directory('chest_xray/val',\n",
    "                                            target_size = (64, 64),\n",
    "                                            batch_size = 32,\n",
    "                                            class_mode = 'binary')"
   ]
  },
  {
   "cell_type": "markdown",
   "metadata": {
    "colab_type": "text",
    "id": "af8O4l90gk7B"
   },
   "source": [
    "## Part 2 - Building the CNN"
   ]
  },
  {
   "cell_type": "markdown",
   "metadata": {
    "colab_type": "text",
    "id": "ces1gXY2lmoX"
   },
   "source": [
    "### Initialising the CNN"
   ]
  },
  {
   "cell_type": "code",
   "execution_count": 6,
   "metadata": {
    "colab": {},
    "colab_type": "code",
    "id": "SAUt4UMPlhLS"
   },
   "outputs": [],
   "source": [
    "cnn = tf.keras.models.Sequential()"
   ]
  },
  {
   "cell_type": "markdown",
   "metadata": {
    "colab_type": "text",
    "id": "u5YJj_XMl5LF"
   },
   "source": [
    "### Step 1 - Convolution"
   ]
  },
  {
   "cell_type": "code",
   "execution_count": 7,
   "metadata": {
    "colab": {},
    "colab_type": "code",
    "id": "XPzPrMckl-hV"
   },
   "outputs": [],
   "source": [
    "cnn.add(tf.keras.layers.Conv2D(filters=32, kernel_size=3, activation='relu', input_shape=[64, 64, 3]))"
   ]
  },
  {
   "cell_type": "markdown",
   "metadata": {
    "colab_type": "text",
    "id": "tf87FpvxmNOJ"
   },
   "source": [
    "### Step 2 - Pooling"
   ]
  },
  {
   "cell_type": "code",
   "execution_count": 8,
   "metadata": {
    "colab": {},
    "colab_type": "code",
    "id": "ncpqPl69mOac"
   },
   "outputs": [],
   "source": [
    "cnn.add(tf.keras.layers.MaxPool2D(pool_size=2, strides=2))"
   ]
  },
  {
   "cell_type": "markdown",
   "metadata": {
    "colab_type": "text",
    "id": "xaTOgD8rm4mU"
   },
   "source": [
    "### Adding a second convolutional layer"
   ]
  },
  {
   "cell_type": "code",
   "execution_count": 9,
   "metadata": {
    "colab": {},
    "colab_type": "code",
    "id": "i_-FZjn_m8gk"
   },
   "outputs": [],
   "source": [
    "cnn.add(tf.keras.layers.Conv2D(filters=32, kernel_size=3, activation='relu'))\n",
    "cnn.add(tf.keras.layers.MaxPool2D(pool_size=2, strides=2))"
   ]
  },
  {
   "cell_type": "markdown",
   "metadata": {
    "colab_type": "text",
    "id": "tmiEuvTunKfk"
   },
   "source": [
    "### Step 3 - Flattening"
   ]
  },
  {
   "cell_type": "code",
   "execution_count": 10,
   "metadata": {
    "colab": {},
    "colab_type": "code",
    "id": "6AZeOGCvnNZn"
   },
   "outputs": [],
   "source": [
    "cnn.add(tf.keras.layers.Flatten())"
   ]
  },
  {
   "cell_type": "markdown",
   "metadata": {
    "colab_type": "text",
    "id": "dAoSECOm203v"
   },
   "source": [
    "### Step 4 - Full Connection"
   ]
  },
  {
   "cell_type": "code",
   "execution_count": 11,
   "metadata": {
    "colab": {},
    "colab_type": "code",
    "id": "8GtmUlLd26Nq"
   },
   "outputs": [],
   "source": [
    "cnn.add(tf.keras.layers.Dense(units=128, activation='relu'))"
   ]
  },
  {
   "cell_type": "markdown",
   "metadata": {
    "colab_type": "text",
    "id": "yTldFvbX28Na"
   },
   "source": [
    "### Step 5 - Output Layer"
   ]
  },
  {
   "cell_type": "code",
   "execution_count": 12,
   "metadata": {
    "colab": {},
    "colab_type": "code",
    "id": "1p_Zj1Mc3Ko_"
   },
   "outputs": [],
   "source": [
    "cnn.add(tf.keras.layers.Dense(units=1, activation='sigmoid'))"
   ]
  },
  {
   "cell_type": "markdown",
   "metadata": {
    "colab_type": "text",
    "id": "D6XkI90snSDl"
   },
   "source": [
    "## Part 3 - Training the CNN"
   ]
  },
  {
   "cell_type": "markdown",
   "metadata": {
    "colab_type": "text",
    "id": "vfrFQACEnc6i"
   },
   "source": [
    "### Compiling the CNN"
   ]
  },
  {
   "cell_type": "code",
   "execution_count": 13,
   "metadata": {
    "colab": {},
    "colab_type": "code",
    "id": "NALksrNQpUlJ"
   },
   "outputs": [],
   "source": [
    "cnn.compile(optimizer = 'adam', loss = 'binary_crossentropy', metrics = ['accuracy'])"
   ]
  },
  {
   "cell_type": "markdown",
   "metadata": {
    "colab_type": "text",
    "id": "ehS-v3MIpX2h"
   },
   "source": [
    "### Training the CNN on the Training set and evaluating it on the Test set"
   ]
  },
  {
   "cell_type": "code",
   "execution_count": 14,
   "metadata": {
    "colab": {},
    "colab_type": "code",
    "id": "XUj1W4PJptta"
   },
   "outputs": [
    {
     "name": "stdout",
     "output_type": "stream",
     "text": [
      "WARNING:tensorflow:sample_weight modes were coerced from\n",
      "  ...\n",
      "    to  \n",
      "  ['...']\n",
      "WARNING:tensorflow:sample_weight modes were coerced from\n",
      "  ...\n",
      "    to  \n",
      "  ['...']\n",
      "Train for 163 steps, validate for 20 steps\n",
      "Epoch 1/25\n",
      "163/163 [==============================] - 237s 1s/step - loss: 0.3909 - accuracy: 0.8271 - val_loss: 0.3665 - val_accuracy: 0.8285\n",
      "Epoch 2/25\n",
      "163/163 [==============================] - 201s 1s/step - loss: 0.2350 - accuracy: 0.9022 - val_loss: 0.3319 - val_accuracy: 0.8542\n",
      "Epoch 3/25\n",
      "163/163 [==============================] - 116s 710ms/step - loss: 0.2178 - accuracy: 0.9128 - val_loss: 0.2963 - val_accuracy: 0.8846\n",
      "Epoch 4/25\n",
      "163/163 [==============================] - 89s 548ms/step - loss: 0.1958 - accuracy: 0.9193 - val_loss: 0.3214 - val_accuracy: 0.8638\n",
      "Epoch 5/25\n",
      "163/163 [==============================] - 88s 539ms/step - loss: 0.1934 - accuracy: 0.9225 - val_loss: 0.3709 - val_accuracy: 0.8381\n",
      "Epoch 6/25\n",
      "163/163 [==============================] - 88s 539ms/step - loss: 0.1772 - accuracy: 0.9319 - val_loss: 0.3821 - val_accuracy: 0.8606\n",
      "Epoch 7/25\n",
      "163/163 [==============================] - 88s 538ms/step - loss: 0.1654 - accuracy: 0.9373 - val_loss: 0.5317 - val_accuracy: 0.8013\n",
      "Epoch 8/25\n",
      "163/163 [==============================] - 88s 541ms/step - loss: 0.1609 - accuracy: 0.9356 - val_loss: 0.2754 - val_accuracy: 0.8910\n",
      "Epoch 9/25\n",
      "163/163 [==============================] - 89s 548ms/step - loss: 0.1470 - accuracy: 0.9423 - val_loss: 0.3839 - val_accuracy: 0.8734\n",
      "Epoch 10/25\n",
      "163/163 [==============================] - 94s 576ms/step - loss: 0.1399 - accuracy: 0.9473 - val_loss: 0.4443 - val_accuracy: 0.8397\n",
      "Epoch 11/25\n",
      "163/163 [==============================] - 89s 546ms/step - loss: 0.1570 - accuracy: 0.9425 - val_loss: 0.2803 - val_accuracy: 0.9151\n",
      "Epoch 12/25\n",
      "163/163 [==============================] - 88s 537ms/step - loss: 0.1322 - accuracy: 0.9500 - val_loss: 0.3992 - val_accuracy: 0.8670\n",
      "Epoch 13/25\n",
      "163/163 [==============================] - 87s 537ms/step - loss: 0.1318 - accuracy: 0.9490 - val_loss: 0.3654 - val_accuracy: 0.8766\n",
      "Epoch 14/25\n",
      "163/163 [==============================] - 88s 540ms/step - loss: 0.1281 - accuracy: 0.9503 - val_loss: 0.2958 - val_accuracy: 0.9054\n",
      "Epoch 15/25\n",
      "163/163 [==============================] - 88s 539ms/step - loss: 0.1366 - accuracy: 0.9498 - val_loss: 0.5451 - val_accuracy: 0.8301\n",
      "Epoch 16/25\n",
      "163/163 [==============================] - 88s 537ms/step - loss: 0.1293 - accuracy: 0.9486 - val_loss: 0.2411 - val_accuracy: 0.9119\n",
      "Epoch 17/25\n",
      "163/163 [==============================] - 88s 543ms/step - loss: 0.1279 - accuracy: 0.9517 - val_loss: 0.4504 - val_accuracy: 0.8478\n",
      "Epoch 18/25\n",
      "163/163 [==============================] - 88s 543ms/step - loss: 0.1246 - accuracy: 0.9525 - val_loss: 0.3046 - val_accuracy: 0.9038\n",
      "Epoch 19/25\n",
      "163/163 [==============================] - 91s 556ms/step - loss: 0.1211 - accuracy: 0.9534 - val_loss: 0.2293 - val_accuracy: 0.9151\n",
      "Epoch 20/25\n",
      "163/163 [==============================] - 89s 544ms/step - loss: 0.1169 - accuracy: 0.9563 - val_loss: 0.4122 - val_accuracy: 0.8766\n",
      "Epoch 21/25\n",
      "163/163 [==============================] - 88s 543ms/step - loss: 0.1119 - accuracy: 0.9569 - val_loss: 0.5446 - val_accuracy: 0.8654\n",
      "Epoch 22/25\n",
      "163/163 [==============================] - 88s 542ms/step - loss: 0.1209 - accuracy: 0.9538 - val_loss: 0.3127 - val_accuracy: 0.9151\n",
      "Epoch 23/25\n",
      "163/163 [==============================] - 88s 540ms/step - loss: 0.1115 - accuracy: 0.9595 - val_loss: 0.3545 - val_accuracy: 0.8894\n",
      "Epoch 24/25\n",
      "163/163 [==============================] - 88s 541ms/step - loss: 0.1130 - accuracy: 0.9601 - val_loss: 0.3391 - val_accuracy: 0.9038\n",
      "Epoch 25/25\n",
      "163/163 [==============================] - 89s 543ms/step - loss: 0.1169 - accuracy: 0.9588 - val_loss: 0.4164 - val_accuracy: 0.8878\n"
     ]
    },
    {
     "data": {
      "text/plain": [
       "<tensorflow.python.keras.callbacks.History at 0x23d33fd6548>"
      ]
     },
     "execution_count": 14,
     "metadata": {},
     "output_type": "execute_result"
    }
   ],
   "source": [
    "cnn.fit(x = training_set, validation_data = test_set, epochs = 25)"
   ]
  },
  {
   "cell_type": "markdown",
   "metadata": {
    "colab_type": "text",
    "id": "U3PZasO0006Z"
   },
   "source": [
    "## Part 4 - Making a single prediction"
   ]
  },
  {
   "cell_type": "code",
   "execution_count": 15,
   "metadata": {},
   "outputs": [],
   "source": [
    "import numpy as np\n",
    "from keras.preprocessing import image"
   ]
  },
  {
   "cell_type": "code",
   "execution_count": 30,
   "metadata": {
    "colab": {},
    "colab_type": "code",
    "id": "gsSiWEJY1BPB"
   },
   "outputs": [],
   "source": [
    "test_image = image.load_img('chest_xray/val/PNEUMONIA/person1947_bacteria_4876.jpeg', target_size = (64, 64))\n",
    "test_image = image.img_to_array(test_image)\n",
    "test_image = np.expand_dims(test_image, axis = 0)\n",
    "result = cnn.predict(test_image)\n",
    "training_set.class_indices\n",
    "if result[0][0] == 1:\n",
    "  prediction = 'NORMAL'\n",
    "else:\n",
    "  prediction = 'PNEUMONIA'"
   ]
  },
  {
   "cell_type": "code",
   "execution_count": 31,
   "metadata": {
    "colab": {},
    "colab_type": "code",
    "id": "ED9KB3I54c1i"
   },
   "outputs": [
    {
     "name": "stdout",
     "output_type": "stream",
     "text": [
      "NORMAL\n"
     ]
    }
   ],
   "source": [
    "print(prediction)"
   ]
  },
  {
   "cell_type": "code",
   "execution_count": null,
   "metadata": {},
   "outputs": [],
   "source": []
  }
 ],
 "metadata": {
  "colab": {
   "collapsed_sections": [],
   "name": "convolutional_neural_network.ipynb",
   "provenance": [],
   "toc_visible": true
  },
  "kernelspec": {
   "display_name": "Python 3",
   "language": "python",
   "name": "python3"
  },
  "language_info": {
   "codemirror_mode": {
    "name": "ipython",
    "version": 3
   },
   "file_extension": ".py",
   "mimetype": "text/x-python",
   "name": "python",
   "nbconvert_exporter": "python",
   "pygments_lexer": "ipython3",
   "version": "3.7.7"
  }
 },
 "nbformat": 4,
 "nbformat_minor": 1
}
